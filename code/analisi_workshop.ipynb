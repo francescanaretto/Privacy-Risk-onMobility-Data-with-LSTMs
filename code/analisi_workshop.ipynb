{
 "cells": [
  {
   "cell_type": "code",
   "execution_count": 1,
   "metadata": {},
   "outputs": [
    {
     "name": "stderr",
     "output_type": "stream",
     "text": [
      "Using TensorFlow backend.\n"
     ]
    }
   ],
   "source": [
    "import shap\n",
    "import pandas as pd\n",
    "from keras.utils import to_categorical\n",
    "import pickle\n",
    "from sklearn.model_selection import GridSearchCV\n",
    "from keras.models import Sequential\n",
    "from keras.layers import Dense, GRU, Dropout, Embedding\n",
    "from keras.wrappers.scikit_learn import KerasClassifier"
   ]
  },
  {
   "cell_type": "code",
   "execution_count": 2,
   "metadata": {},
   "outputs": [
    {
     "name": "stderr",
     "output_type": "stream",
     "text": [
      "Converting sparse IndexedSlices to a dense Tensor of unknown shape. This may consume a large amount of memory.\n",
      "Converting sparse IndexedSlices to a dense Tensor of unknown shape. This may consume a large amount of memory.\n"
     ]
    }
   ],
   "source": [
    "trained_model = open('../results/trained_net_rischio2_istat.p',\"rb\")\n",
    "model = pickle.load(trained_model)\n",
    "title = \"../results/test_set_rischio2_istat_strat.p\"\n",
    "test = open(title,\"rb\")\n",
    "test_set = pickle.load(test)\n",
    "title = \"../results/test_label_rischio2_istat_strat.p\"\n",
    "test_l = open(title,\"rb\")\n",
    "test_label = pickle.load(test_l)\n",
    "datas = open(\"../../datasets/Prato_Pistoia_trajectories_ids.p\",\"rb\")\n",
    "dataset = pickle.load(datas)\n",
    "coors = pd.read_csv('../../datasets/Prato_Pistoia_trajectories_df')\n",
    "title = \"../../shap/values_shap_lstm.p\"\n",
    "test_l = open(title,\"rb\")\n",
    "shap_values = pickle.load(test_l)\n",
    "title = \"../results/explainer_1.p\"\n",
    "test_l = open(title,\"rb\")\n",
    "expl_1 = pickle.load(test_l)\n",
    "title = \"../results/explainer_0.p\"\n",
    "test_l = open(title,\"rb\")\n",
    "expl_0 = pickle.load(test_l)\n",
    "title = \"../results/shap_values_lstm_risultati.p\"\n",
    "test_l = open(title,\"rb\")\n",
    "shaps = pickle.load(test_l)\n",
    "freq = pd.read_csv('../../datasets/frequencies_entropy_istat.csv')\n",
    "title = \"../results/users_index\"\n",
    "test_l = open(title,\"rb\")\n",
    "users = pickle.load(test_l)"
   ]
  },
  {
   "cell_type": "code",
   "execution_count": 3,
   "metadata": {},
   "outputs": [],
   "source": [
    "#mapping ids to geo coordinates\n",
    "maps = dict()\n",
    "for index, row in coors.iterrows():\n",
    "    maps[int(row['location'])]=(row['lat'], row['lon'])\n",
    "maps_test = list()\n",
    "for t in test_set:\n",
    "    temp = list()\n",
    "    for e in t:\n",
    "        #this is padding \n",
    "        if e == 0:\n",
    "            temp.append(e)\n",
    "        #real data    \n",
    "        else:\n",
    "            temp.append(prova[e])\n",
    "    maps_test.append(temp) \n",
    "result = list()\n",
    "for n in maps_test:\n",
    "    result.append(list(map(str, n)))"
   ]
  },
  {
   "cell_type": "code",
   "execution_count": 5,
   "metadata": {},
   "outputs": [],
   "source": [
    "#remove 0 shap values and sort \n",
    "points = dict()\n",
    "for r in shaps:\n",
    "    sorted(shaps[r], key = lambda x : x[0] )\n",
    "    shaps[r].sort(reverse=True)\n",
    "    points[r] = list()\n",
    "    for i in range(0, len(shaps[r])):\n",
    "        points[r].append((i, shaps[r][i][0], shaps[r][i][1]))"
   ]
  },
  {
   "cell_type": "code",
   "execution_count": 8,
   "metadata": {},
   "outputs": [],
   "source": [
    "import math\n",
    "\n",
    "#for each user, for the top 6 locations, look at the frequency of visits for that location\n",
    "\n",
    "risultato = dict()\n",
    "for i in range(0, len(points.keys())):\n",
    "    flag = False\n",
    "    risultato[i] = list()\n",
    "    f = freq.loc[freq['uid'] == users[i]]\n",
    "    for e in range(0,len(points[i])):\n",
    "        p = eval(points[i][e][2])\n",
    "        count = 0\n",
    "        if p != 0 and count<6:  \n",
    "            for k in range(2, 20):\n",
    "                if math.isclose(f['lat_'+str(k)], p[0]) & math.isclose(f['lng_'+str(k)], p[1]):\n",
    "                    risultato[i].append(str(k))\n",
    "                    risultato[i].append(f['entropy_'+str(k)].iloc[0])\n",
    "                    risultato[i].append(f[str(k)].iloc[0])  \n",
    "            count += 1"
   ]
  },
  {
   "cell_type": "code",
   "execution_count": 9,
   "metadata": {},
   "outputs": [],
   "source": [
    "#predict the class for each element of the test set\n",
    "import numpy as np\n",
    "predictions = list()\n",
    "for i in range(0, len(test_set)):\n",
    "    p = np.array([test_set[i]])\n",
    "    r = model.predict(p)[0]\n",
    "    if r[0] > r[1]:\n",
    "        predictions.append(0)\n",
    "    else:\n",
    "        predictions.append(1)\n",
    "    "
   ]
  },
  {
   "cell_type": "code",
   "execution_count": 10,
   "metadata": {},
   "outputs": [],
   "source": [
    "#for each prediction, take the index \n",
    "indexes_0 = list()\n",
    "indexes_1 = list()\n",
    "count = 0\n",
    "for p in predictions:\n",
    "    if p == 0:\n",
    "        indexes_0.append(count)\n",
    "    else:\n",
    "        indexes_1.append(count)\n",
    "    count += 1    \n",
    "        "
   ]
  },
  {
   "cell_type": "code",
   "execution_count": 312,
   "metadata": {},
   "outputs": [],
   "source": [
    "locs = list()\n",
    "for i in indexes_0:\n",
    "    if len(risultato[i]) != 0:\n",
    "        try:\n",
    "            locs.append(risultato[i][0])\n",
    "        except:\n",
    "            continue  "
   ]
  },
  {
   "cell_type": "code",
   "execution_count": 323,
   "metadata": {},
   "outputs": [],
   "source": [
    "for i in indexes_1:\n",
    "    if len(risultato[i]) != 0:\n",
    "        try:\n",
    "            locs.append(risultato[i][0])\n",
    "        except:\n",
    "            continue"
   ]
  },
  {
   "cell_type": "code",
   "execution_count": 478,
   "metadata": {},
   "outputs": [
    {
     "data": {
      "text/plain": [
       "54785"
      ]
     },
     "execution_count": 478,
     "metadata": {},
     "output_type": "execute_result"
    }
   ],
   "source": [
    "#total number of visits for the test set\n",
    "count = 0\n",
    "for i in result:\n",
    "    for e in i:\n",
    "        if e != '0':\n",
    "            count += 1\n",
    "count            "
   ]
  },
  {
   "cell_type": "code",
   "execution_count": 505,
   "metadata": {},
   "outputs": [],
   "source": [
    "types_0 = list()\n",
    "types_0_tot = list()\n",
    "types_1 = list()\n",
    "types_1_tot = list()\n",
    "for i in indexes_0:\n",
    "    if len(risultato[i]) != 0:\n",
    "        try:\n",
    "            types_0.append(risultato[i][2])\n",
    "            count = 0\n",
    "            for r in result[i]:\n",
    "                r = eval(r)\n",
    "                if r != 0:\n",
    "                    count +=1 \n",
    "            types_0_tot.append(count)        \n",
    "        except:\n",
    "            continue\n",
    "for i in indexes_1:\n",
    "    if len(risultato[i]) != 0:\n",
    "        try:\n",
    "            types_1.append(risultato[i][2])   \n",
    "            count = 0\n",
    "            for r in result[i]:\n",
    "                r = eval(r)\n",
    "                if r != 0:\n",
    "                    count +=1 \n",
    "            types_1_tot.append(count)             \n",
    "        except:\n",
    "            continue"
   ]
  },
  {
   "cell_type": "code",
   "execution_count": 506,
   "metadata": {},
   "outputs": [],
   "source": [
    "ratio0 = list()\n",
    "for t in range(0, len(types_0)):\n",
    "    ratio0.append(types_0[t]/float(types_0_tot[t]))\n",
    "ratio1 = list()\n",
    "for t in range(0, len(types_1)):\n",
    "    ratio1.append(types_1[t]/float(types_1_tot[t]))    "
   ]
  },
  {
   "cell_type": "code",
   "execution_count": 507,
   "metadata": {
    "scrolled": true
   },
   "outputs": [
    {
     "name": "stdout",
     "output_type": "stream",
     "text": [
      "0.605309797877666\n",
      "0.2735967931182144\n"
     ]
    }
   ],
   "source": [
    "print(statistics.mean(ratio0))\n",
    "print(statistics.stdev(ratio0))"
   ]
  },
  {
   "cell_type": "code",
   "execution_count": 508,
   "metadata": {},
   "outputs": [
    {
     "name": "stdout",
     "output_type": "stream",
     "text": [
      "0.35025536918649647\n",
      "0.2617786797873071\n"
     ]
    }
   ],
   "source": [
    "print(statistics.mean(ratio1))\n",
    "print(statistics.stdev(ratio1))"
   ]
  },
  {
   "cell_type": "code",
   "execution_count": 465,
   "metadata": {},
   "outputs": [
    {
     "ename": "KeyboardInterrupt",
     "evalue": "",
     "output_type": "error",
     "traceback": [
      "\u001b[0;31m---------------------------------------------------------------------------\u001b[0m",
      "\u001b[0;31mKeyboardInterrupt\u001b[0m                         Traceback (most recent call last)",
      "\u001b[0;32m<ipython-input-465-67887bb466e3>\u001b[0m in \u001b[0;36m<module>\u001b[0;34m\u001b[0m\n\u001b[1;32m      5\u001b[0m         \u001b[0mc\u001b[0m \u001b[0;34m=\u001b[0m \u001b[0;36m0\u001b[0m\u001b[0;34m\u001b[0m\u001b[0;34m\u001b[0m\u001b[0m\n\u001b[1;32m      6\u001b[0m         \u001b[0;32mfor\u001b[0m \u001b[0mi\u001b[0m \u001b[0;32min\u001b[0m \u001b[0mt\u001b[0m\u001b[0;34m:\u001b[0m\u001b[0;34m\u001b[0m\u001b[0;34m\u001b[0m\u001b[0m\n\u001b[0;32m----> 7\u001b[0;31m             \u001b[0mi\u001b[0m \u001b[0;34m=\u001b[0m \u001b[0meval\u001b[0m\u001b[0;34m(\u001b[0m\u001b[0mi\u001b[0m\u001b[0;34m)\u001b[0m\u001b[0;34m\u001b[0m\u001b[0;34m\u001b[0m\u001b[0m\n\u001b[0m\u001b[1;32m      8\u001b[0m             \u001b[0;32mif\u001b[0m \u001b[0mi\u001b[0m \u001b[0;34m!=\u001b[0m \u001b[0;36m0\u001b[0m\u001b[0;34m:\u001b[0m\u001b[0;34m\u001b[0m\u001b[0;34m\u001b[0m\u001b[0m\n\u001b[1;32m      9\u001b[0m                 \u001b[0;32mif\u001b[0m \u001b[0mi\u001b[0m\u001b[0;34m[\u001b[0m\u001b[0;36m0\u001b[0m\u001b[0;34m]\u001b[0m \u001b[0;34m==\u001b[0m \u001b[0mp\u001b[0m\u001b[0;34m[\u001b[0m\u001b[0;36m0\u001b[0m\u001b[0;34m]\u001b[0m \u001b[0;32mand\u001b[0m \u001b[0mi\u001b[0m\u001b[0;34m[\u001b[0m\u001b[0;36m1\u001b[0m\u001b[0;34m]\u001b[0m \u001b[0;34m==\u001b[0m \u001b[0mp\u001b[0m\u001b[0;34m[\u001b[0m\u001b[0;36m1\u001b[0m\u001b[0;34m]\u001b[0m\u001b[0;34m:\u001b[0m\u001b[0;34m\u001b[0m\u001b[0;34m\u001b[0m\u001b[0m\n",
      "\u001b[0;31mKeyboardInterrupt\u001b[0m: "
     ]
    }
   ],
   "source": [
    "counts = list()\n",
    "for r in risultato:\n",
    "    p = risultato[r][0]\n",
    "    for t in result:\n",
    "        c = 0\n",
    "        for i in t:\n",
    "            i = eval(i)\n",
    "            if i != 0:\n",
    "                if i[0] == p[0] and i[1] == p[1]:\n",
    "                    c += 1\n",
    "        counts.append(c)            "
   ]
  },
  {
   "cell_type": "code",
   "execution_count": 469,
   "metadata": {},
   "outputs": [],
   "source": [
    "lcs = dict()\n",
    "for l in locs:\n",
    "    lcs[l] = 0\n",
    "    for r in result:\n",
    "        lcs[l] += r.count(l)"
   ]
  },
  {
   "cell_type": "code",
   "execution_count": 485,
   "metadata": {},
   "outputs": [],
   "source": [
    "types_0 = list()\n",
    "types_0_tot = list()\n",
    "types_1 = list()\n",
    "types_1_tot = list()\n",
    "for i in indexes_0:\n",
    "    if len(risultato[i]) != 0:\n",
    "        try:\n",
    "            p = str(risultato[i][2])\n",
    "            types_0.append(lcs[p]/float(54785) ) \n",
    "        except:\n",
    "            continue\n",
    "for i in indexes_1:\n",
    "    if len(risultato[i]) != 0:\n",
    "        try:\n",
    "            p = str(risultato[i][2])\n",
    "            types_1.append(lcs[p]/float(54785))              \n",
    "        except:\n",
    "            continue"
   ]
  },
  {
   "cell_type": "code",
   "execution_count": 486,
   "metadata": {},
   "outputs": [
    {
     "name": "stdout",
     "output_type": "stream",
     "text": [
      "0.004395653636516095\n",
      "0.005198279446571374\n"
     ]
    }
   ],
   "source": [
    "print(statistics.mean(types_0))\n",
    "print(statistics.stdev(types_0))"
   ]
  },
  {
   "cell_type": "code",
   "execution_count": 487,
   "metadata": {},
   "outputs": [
    {
     "name": "stdout",
     "output_type": "stream",
     "text": [
      "0.002010998548220432\n",
      "0.002739346557720432\n"
     ]
    }
   ],
   "source": [
    "print(statistics.mean(types_1))\n",
    "print(statistics.stdev(types_1))"
   ]
  }
 ],
 "metadata": {
  "kernelspec": {
   "display_name": "Python 3",
   "language": "python",
   "name": "python3"
  },
  "language_info": {
   "codemirror_mode": {
    "name": "ipython",
    "version": 3
   },
   "file_extension": ".py",
   "mimetype": "text/x-python",
   "name": "python",
   "nbconvert_exporter": "python",
   "pygments_lexer": "ipython3",
   "version": "3.7.7"
  }
 },
 "nbformat": 4,
 "nbformat_minor": 4
}
